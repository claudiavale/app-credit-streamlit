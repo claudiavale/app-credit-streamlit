{
  "nbformat": 4,
  "nbformat_minor": 5,
  "metadata": {
    "kernelspec": {
      "display_name": "Python 3",
      "language": "python",
      "name": "python3"
    },
    "language_info": {
      "codemirror_mode": {
        "name": "ipython",
        "version": 3
      },
      "file_extension": ".py",
      "mimetype": "text/x-python",
      "name": "python",
      "nbconvert_exporter": "python",
      "pygments_lexer": "ipython3",
      "version": "3.7.9"
    },
    "colab": {
      "name": "14-Aprobacion-tarjeta-credito-Tarea.ipynb",
      "provenance": [],
      "collapsed_sections": []
    }
  },
  "cells": [
    {
      "cell_type": "markdown",
      "metadata": {
        "id": "ranging-anthony"
      },
      "source": [
        "### Examen final:\n",
        "1. Hacer la separacion de los datos X, y en dos conjuntos:  entrenamiento y ensayo o sea x_train, x_test y y_train, y_test\n",
        "2. Normalizar los datos con el StandardScaler\n",
        "3. Entrenar un algoritmo de Arboles aleatorios (RandomForest)\n",
        "4. Evaluar la precision del algoritmo con accuracy_score y con confusion_matrix\n",
        "5. Evaluar la importancia de variables y hacer la grafica\n",
        "6. Crear un nuevo modelo utilizando solamenta los 4 atributos mas importantes y salvar el modelo en un archivo tipo joblib\n",
        "\n",
        "Nota:  Para hacer este ejercicio hay que basarse en el cuaderno 13a-SKLEARN"
      ],
      "id": "ranging-anthony"
    },
    {
      "cell_type": "code",
      "metadata": {
        "id": "comprehensive-publisher"
      },
      "source": [
        "import matplotlib.pyplot as plt\n",
        "\n",
        "import numpy as np\n",
        "import pandas as pd"
      ],
      "id": "comprehensive-publisher",
      "execution_count": 1,
      "outputs": []
    },
    {
      "cell_type": "code",
      "metadata": {
        "colab": {
          "base_uri": "https://localhost:8080/"
        },
        "id": "uyUJoblglEj8",
        "outputId": "0720f64f-8ce8-45de-e784-a041434de07c"
      },
      "source": [
        "#Importando el drive al colab\n",
        "from google.colab import drive\n",
        "drive.mount('/content/gdrive')"
      ],
      "id": "uyUJoblglEj8",
      "execution_count": 2,
      "outputs": [
        {
          "output_type": "stream",
          "name": "stdout",
          "text": [
            "Mounted at /content/gdrive\n"
          ]
        }
      ]
    },
    {
      "cell_type": "code",
      "metadata": {
        "colab": {
          "base_uri": "https://localhost:8080/"
        },
        "id": "pUi1Euf1lKXL",
        "outputId": "79ab087c-eb67-44fe-8b7e-27e6cc3125d3"
      },
      "source": [
        "#Importando el dataset de la carpeta del drive\n",
        "!ls '/content/gdrive/My Drive/Colab Notebooks'"
      ],
      "id": "pUi1Euf1lKXL",
      "execution_count": 3,
      "outputs": [
        {
          "output_type": "stream",
          "name": "stdout",
          "text": [
            " 14-Aprobacion-tarjeta-credito-Tarea.ipynb\n",
            " cell_samples.csv\n",
            "'Copia de 01-introduccion-a-python.ipynb'\n",
            "'Copia de 02-objetos-en-python.ipynb'\n",
            "'Copia de 03a-tuplas.ipynb'\n",
            "'Copia de 03b-listas.ipynb'\n",
            "'Copia de 03c-diccionarios.ipynb'\n",
            "'Copia de 04-libreria-pandas (1).ipynb'\n",
            "'Copia de 04-libreria-pandas.ipynb'\n",
            "'Copia de 05-Numpy.ipynb'\n",
            "'Copia de 06-Matplotlib.ipynb'\n",
            "'Copia de 07-Instrucciones-de-control-de-flujo.ipynb'\n",
            "'Copia de 10-keras-cell-clasifier.ipynb'\n",
            "'Copia de 11-keras-mnist (1).ipynb'\n",
            "'Copia de 11-keras-mnist (2).ipynb'\n",
            "'Copia de 11-keras-mnist.ipynb'\n",
            "'Copia de 13a-SKLEARN (1).ipynb'\n",
            "'Copia de 13a-SKLEARN.ipynb'\n",
            "'Copia de 8b-regresion-lineal.ipynb'\n",
            "'Copia de 8-regresion-lineal.ipynb'\n",
            "'Copia de 8-regresion-lineal-simple_Primera.ipynb'\n",
            "'Copia de 8-regresion-lineal-simple_Segunda.ipynb'\n",
            "'Copia de 9a-prueba-funcion-sigmoide.ipynb'\n",
            "'Copia de 9b-red-neuronal.ipynb'\n",
            " credit-approval1.csv\n",
            " credit-approval-.csv\n",
            "'Examen 1'\n",
            "'Examen Final - Claudia Valencia Morales.ipynb'\n",
            " precios-apartamentos.csv\n",
            " Taller_IA_Pascual_Bravo.pdf\n",
            "'Tarea 2 - Pandas'\n",
            " ventas.csv\n"
          ]
        }
      ]
    },
    {
      "cell_type": "code",
      "metadata": {
        "colab": {
          "base_uri": "https://localhost:8080/",
          "height": 383
        },
        "id": "MQ_7KZ0jlNPA",
        "outputId": "add6cb0e-a4b7-46d5-de09-8b86c2b95cdb"
      },
      "source": [
        "#Lectura de los datos \n",
        "credit = pd.read_csv('/content/gdrive/My Drive/Colab Notebooks/credit-approval1.csv') \n",
        "credit.head(10)"
      ],
      "id": "MQ_7KZ0jlNPA",
      "execution_count": 4,
      "outputs": [
        {
          "output_type": "execute_result",
          "data": {
            "text/html": [
              "<div>\n",
              "<style scoped>\n",
              "    .dataframe tbody tr th:only-of-type {\n",
              "        vertical-align: middle;\n",
              "    }\n",
              "\n",
              "    .dataframe tbody tr th {\n",
              "        vertical-align: top;\n",
              "    }\n",
              "\n",
              "    .dataframe thead th {\n",
              "        text-align: right;\n",
              "    }\n",
              "</style>\n",
              "<table border=\"1\" class=\"dataframe\">\n",
              "  <thead>\n",
              "    <tr style=\"text-align: right;\">\n",
              "      <th></th>\n",
              "      <th>Genero</th>\n",
              "      <th>Edad</th>\n",
              "      <th>Deuda</th>\n",
              "      <th>Casado</th>\n",
              "      <th>ClienteBanco</th>\n",
              "      <th>NivelEstudios</th>\n",
              "      <th>GrupoPobl</th>\n",
              "      <th>TiempoEmpleado</th>\n",
              "      <th>IncumplimientosPrevios</th>\n",
              "      <th>Empleado</th>\n",
              "      <th>PuntajeCredito</th>\n",
              "      <th>LicenciaConduccion</th>\n",
              "      <th>Ciudadania</th>\n",
              "      <th>CodigoZip</th>\n",
              "      <th>Ingresos</th>\n",
              "      <th>Aprobado</th>\n",
              "    </tr>\n",
              "  </thead>\n",
              "  <tbody>\n",
              "    <tr>\n",
              "      <th>0</th>\n",
              "      <td>b</td>\n",
              "      <td>30.83</td>\n",
              "      <td>0.000</td>\n",
              "      <td>u</td>\n",
              "      <td>g</td>\n",
              "      <td>w</td>\n",
              "      <td>v</td>\n",
              "      <td>1.250</td>\n",
              "      <td>t</td>\n",
              "      <td>t</td>\n",
              "      <td>1</td>\n",
              "      <td>f</td>\n",
              "      <td>g</td>\n",
              "      <td>202.0</td>\n",
              "      <td>0</td>\n",
              "      <td>+</td>\n",
              "    </tr>\n",
              "    <tr>\n",
              "      <th>1</th>\n",
              "      <td>a</td>\n",
              "      <td>58.67</td>\n",
              "      <td>4.460</td>\n",
              "      <td>u</td>\n",
              "      <td>g</td>\n",
              "      <td>q</td>\n",
              "      <td>h</td>\n",
              "      <td>3.040</td>\n",
              "      <td>t</td>\n",
              "      <td>t</td>\n",
              "      <td>6</td>\n",
              "      <td>f</td>\n",
              "      <td>g</td>\n",
              "      <td>43.0</td>\n",
              "      <td>560</td>\n",
              "      <td>+</td>\n",
              "    </tr>\n",
              "    <tr>\n",
              "      <th>2</th>\n",
              "      <td>a</td>\n",
              "      <td>24.50</td>\n",
              "      <td>0.500</td>\n",
              "      <td>u</td>\n",
              "      <td>g</td>\n",
              "      <td>q</td>\n",
              "      <td>h</td>\n",
              "      <td>1.500</td>\n",
              "      <td>t</td>\n",
              "      <td>f</td>\n",
              "      <td>0</td>\n",
              "      <td>f</td>\n",
              "      <td>g</td>\n",
              "      <td>280.0</td>\n",
              "      <td>824</td>\n",
              "      <td>+</td>\n",
              "    </tr>\n",
              "    <tr>\n",
              "      <th>3</th>\n",
              "      <td>b</td>\n",
              "      <td>27.83</td>\n",
              "      <td>1.540</td>\n",
              "      <td>u</td>\n",
              "      <td>g</td>\n",
              "      <td>w</td>\n",
              "      <td>v</td>\n",
              "      <td>3.750</td>\n",
              "      <td>t</td>\n",
              "      <td>t</td>\n",
              "      <td>5</td>\n",
              "      <td>t</td>\n",
              "      <td>g</td>\n",
              "      <td>100.0</td>\n",
              "      <td>3</td>\n",
              "      <td>+</td>\n",
              "    </tr>\n",
              "    <tr>\n",
              "      <th>4</th>\n",
              "      <td>b</td>\n",
              "      <td>20.17</td>\n",
              "      <td>5.625</td>\n",
              "      <td>u</td>\n",
              "      <td>g</td>\n",
              "      <td>w</td>\n",
              "      <td>v</td>\n",
              "      <td>1.710</td>\n",
              "      <td>t</td>\n",
              "      <td>f</td>\n",
              "      <td>0</td>\n",
              "      <td>f</td>\n",
              "      <td>s</td>\n",
              "      <td>120.0</td>\n",
              "      <td>0</td>\n",
              "      <td>+</td>\n",
              "    </tr>\n",
              "    <tr>\n",
              "      <th>5</th>\n",
              "      <td>b</td>\n",
              "      <td>32.08</td>\n",
              "      <td>4.000</td>\n",
              "      <td>u</td>\n",
              "      <td>g</td>\n",
              "      <td>m</td>\n",
              "      <td>v</td>\n",
              "      <td>2.500</td>\n",
              "      <td>t</td>\n",
              "      <td>f</td>\n",
              "      <td>0</td>\n",
              "      <td>t</td>\n",
              "      <td>g</td>\n",
              "      <td>360.0</td>\n",
              "      <td>0</td>\n",
              "      <td>+</td>\n",
              "    </tr>\n",
              "    <tr>\n",
              "      <th>6</th>\n",
              "      <td>b</td>\n",
              "      <td>33.17</td>\n",
              "      <td>1.040</td>\n",
              "      <td>u</td>\n",
              "      <td>g</td>\n",
              "      <td>r</td>\n",
              "      <td>h</td>\n",
              "      <td>6.500</td>\n",
              "      <td>t</td>\n",
              "      <td>f</td>\n",
              "      <td>0</td>\n",
              "      <td>t</td>\n",
              "      <td>g</td>\n",
              "      <td>164.0</td>\n",
              "      <td>31285</td>\n",
              "      <td>+</td>\n",
              "    </tr>\n",
              "    <tr>\n",
              "      <th>7</th>\n",
              "      <td>a</td>\n",
              "      <td>22.92</td>\n",
              "      <td>11.585</td>\n",
              "      <td>u</td>\n",
              "      <td>g</td>\n",
              "      <td>cc</td>\n",
              "      <td>v</td>\n",
              "      <td>0.040</td>\n",
              "      <td>t</td>\n",
              "      <td>f</td>\n",
              "      <td>0</td>\n",
              "      <td>f</td>\n",
              "      <td>g</td>\n",
              "      <td>80.0</td>\n",
              "      <td>1349</td>\n",
              "      <td>+</td>\n",
              "    </tr>\n",
              "    <tr>\n",
              "      <th>8</th>\n",
              "      <td>b</td>\n",
              "      <td>54.42</td>\n",
              "      <td>0.500</td>\n",
              "      <td>y</td>\n",
              "      <td>p</td>\n",
              "      <td>k</td>\n",
              "      <td>h</td>\n",
              "      <td>3.960</td>\n",
              "      <td>t</td>\n",
              "      <td>f</td>\n",
              "      <td>0</td>\n",
              "      <td>f</td>\n",
              "      <td>g</td>\n",
              "      <td>180.0</td>\n",
              "      <td>314</td>\n",
              "      <td>+</td>\n",
              "    </tr>\n",
              "    <tr>\n",
              "      <th>9</th>\n",
              "      <td>b</td>\n",
              "      <td>42.50</td>\n",
              "      <td>4.915</td>\n",
              "      <td>y</td>\n",
              "      <td>p</td>\n",
              "      <td>w</td>\n",
              "      <td>v</td>\n",
              "      <td>3.165</td>\n",
              "      <td>t</td>\n",
              "      <td>f</td>\n",
              "      <td>0</td>\n",
              "      <td>t</td>\n",
              "      <td>g</td>\n",
              "      <td>52.0</td>\n",
              "      <td>1442</td>\n",
              "      <td>+</td>\n",
              "    </tr>\n",
              "  </tbody>\n",
              "</table>\n",
              "</div>"
            ],
            "text/plain": [
              "  Genero   Edad   Deuda Casado  ... Ciudadania CodigoZip Ingresos  Aprobado\n",
              "0      b  30.83   0.000      u  ...          g     202.0        0         +\n",
              "1      a  58.67   4.460      u  ...          g      43.0      560         +\n",
              "2      a  24.50   0.500      u  ...          g     280.0      824         +\n",
              "3      b  27.83   1.540      u  ...          g     100.0        3         +\n",
              "4      b  20.17   5.625      u  ...          s     120.0        0         +\n",
              "5      b  32.08   4.000      u  ...          g     360.0        0         +\n",
              "6      b  33.17   1.040      u  ...          g     164.0    31285         +\n",
              "7      a  22.92  11.585      u  ...          g      80.0     1349         +\n",
              "8      b  54.42   0.500      y  ...          g     180.0      314         +\n",
              "9      b  42.50   4.915      y  ...          g      52.0     1442         +\n",
              "\n",
              "[10 rows x 16 columns]"
            ]
          },
          "metadata": {},
          "execution_count": 4
        }
      ]
    },
    {
      "cell_type": "code",
      "metadata": {
        "id": "south-wells",
        "colab": {
          "base_uri": "https://localhost:8080/",
          "height": 300
        },
        "outputId": "a7cf63bc-4789-48ba-8c0e-df7d09f011ec"
      },
      "source": [
        "#get summary of numeric columns\n",
        "credit.describe()"
      ],
      "id": "south-wells",
      "execution_count": 5,
      "outputs": [
        {
          "output_type": "execute_result",
          "data": {
            "text/html": [
              "<div>\n",
              "<style scoped>\n",
              "    .dataframe tbody tr th:only-of-type {\n",
              "        vertical-align: middle;\n",
              "    }\n",
              "\n",
              "    .dataframe tbody tr th {\n",
              "        vertical-align: top;\n",
              "    }\n",
              "\n",
              "    .dataframe thead th {\n",
              "        text-align: right;\n",
              "    }\n",
              "</style>\n",
              "<table border=\"1\" class=\"dataframe\">\n",
              "  <thead>\n",
              "    <tr style=\"text-align: right;\">\n",
              "      <th></th>\n",
              "      <th>Edad</th>\n",
              "      <th>Deuda</th>\n",
              "      <th>TiempoEmpleado</th>\n",
              "      <th>PuntajeCredito</th>\n",
              "      <th>CodigoZip</th>\n",
              "      <th>Ingresos</th>\n",
              "    </tr>\n",
              "  </thead>\n",
              "  <tbody>\n",
              "    <tr>\n",
              "      <th>count</th>\n",
              "      <td>678.000000</td>\n",
              "      <td>690.000000</td>\n",
              "      <td>690.000000</td>\n",
              "      <td>690.00000</td>\n",
              "      <td>677.000000</td>\n",
              "      <td>690.000000</td>\n",
              "    </tr>\n",
              "    <tr>\n",
              "      <th>mean</th>\n",
              "      <td>31.568171</td>\n",
              "      <td>4.758725</td>\n",
              "      <td>2.223406</td>\n",
              "      <td>2.40000</td>\n",
              "      <td>184.014771</td>\n",
              "      <td>1017.385507</td>\n",
              "    </tr>\n",
              "    <tr>\n",
              "      <th>std</th>\n",
              "      <td>11.957862</td>\n",
              "      <td>4.978163</td>\n",
              "      <td>3.346513</td>\n",
              "      <td>4.86294</td>\n",
              "      <td>173.806768</td>\n",
              "      <td>5210.102598</td>\n",
              "    </tr>\n",
              "    <tr>\n",
              "      <th>min</th>\n",
              "      <td>13.750000</td>\n",
              "      <td>0.000000</td>\n",
              "      <td>0.000000</td>\n",
              "      <td>0.00000</td>\n",
              "      <td>0.000000</td>\n",
              "      <td>0.000000</td>\n",
              "    </tr>\n",
              "    <tr>\n",
              "      <th>25%</th>\n",
              "      <td>22.602500</td>\n",
              "      <td>1.000000</td>\n",
              "      <td>0.165000</td>\n",
              "      <td>0.00000</td>\n",
              "      <td>75.000000</td>\n",
              "      <td>0.000000</td>\n",
              "    </tr>\n",
              "    <tr>\n",
              "      <th>50%</th>\n",
              "      <td>28.460000</td>\n",
              "      <td>2.750000</td>\n",
              "      <td>1.000000</td>\n",
              "      <td>0.00000</td>\n",
              "      <td>160.000000</td>\n",
              "      <td>5.000000</td>\n",
              "    </tr>\n",
              "    <tr>\n",
              "      <th>75%</th>\n",
              "      <td>38.230000</td>\n",
              "      <td>7.207500</td>\n",
              "      <td>2.625000</td>\n",
              "      <td>3.00000</td>\n",
              "      <td>276.000000</td>\n",
              "      <td>395.500000</td>\n",
              "    </tr>\n",
              "    <tr>\n",
              "      <th>max</th>\n",
              "      <td>80.250000</td>\n",
              "      <td>28.000000</td>\n",
              "      <td>28.500000</td>\n",
              "      <td>67.00000</td>\n",
              "      <td>2000.000000</td>\n",
              "      <td>100000.000000</td>\n",
              "    </tr>\n",
              "  </tbody>\n",
              "</table>\n",
              "</div>"
            ],
            "text/plain": [
              "             Edad       Deuda  ...    CodigoZip       Ingresos\n",
              "count  678.000000  690.000000  ...   677.000000     690.000000\n",
              "mean    31.568171    4.758725  ...   184.014771    1017.385507\n",
              "std     11.957862    4.978163  ...   173.806768    5210.102598\n",
              "min     13.750000    0.000000  ...     0.000000       0.000000\n",
              "25%     22.602500    1.000000  ...    75.000000       0.000000\n",
              "50%     28.460000    2.750000  ...   160.000000       5.000000\n",
              "75%     38.230000    7.207500  ...   276.000000     395.500000\n",
              "max     80.250000   28.000000  ...  2000.000000  100000.000000\n",
              "\n",
              "[8 rows x 6 columns]"
            ]
          },
          "metadata": {},
          "execution_count": 5
        }
      ]
    },
    {
      "cell_type": "code",
      "metadata": {
        "id": "active-warrior"
      },
      "source": [
        "#replace missing values with mean values of numeric columns\n",
        "credit.fillna(credit.mean(), inplace=True)"
      ],
      "id": "active-warrior",
      "execution_count": 6,
      "outputs": []
    },
    {
      "cell_type": "code",
      "metadata": {
        "scrolled": true,
        "id": "wired-cowboy",
        "colab": {
          "base_uri": "https://localhost:8080/"
        },
        "outputId": "b947f84b-cd23-40b4-d67b-07690891a430"
      },
      "source": [
        "credit.dtypes"
      ],
      "id": "wired-cowboy",
      "execution_count": 7,
      "outputs": [
        {
          "output_type": "execute_result",
          "data": {
            "text/plain": [
              "Genero                     object\n",
              "Edad                      float64\n",
              "Deuda                     float64\n",
              "Casado                     object\n",
              "ClienteBanco               object\n",
              "NivelEstudios              object\n",
              "GrupoPobl                  object\n",
              "TiempoEmpleado            float64\n",
              "IncumplimientosPrevios     object\n",
              "Empleado                   object\n",
              "PuntajeCredito              int64\n",
              "LicenciaConduccion         object\n",
              "Ciudadania                 object\n",
              "CodigoZip                 float64\n",
              "Ingresos                    int64\n",
              "Aprobado                   object\n",
              "dtype: object"
            ]
          },
          "metadata": {},
          "execution_count": 7
        }
      ]
    },
    {
      "cell_type": "code",
      "metadata": {
        "id": "sonic-sheriff"
      },
      "source": [
        "# quitamos la columna CodigoZip\n",
        "credit_drop=credit.drop([\"CodigoZip\",\"GrupoPobl\"],axis=1)"
      ],
      "id": "sonic-sheriff",
      "execution_count": 8,
      "outputs": []
    },
    {
      "cell_type": "code",
      "metadata": {
        "colab": {
          "base_uri": "https://localhost:8080/"
        },
        "id": "NX1_zYTJnPvC",
        "outputId": "c22fa6f2-c66c-4072-c5e9-a8bad32fa04c"
      },
      "source": [
        "credit_drop['Aprobado']"
      ],
      "id": "NX1_zYTJnPvC",
      "execution_count": 9,
      "outputs": [
        {
          "output_type": "execute_result",
          "data": {
            "text/plain": [
              "0      +\n",
              "1      +\n",
              "2      +\n",
              "3      +\n",
              "4      +\n",
              "      ..\n",
              "685    -\n",
              "686    -\n",
              "687    -\n",
              "688    -\n",
              "689    -\n",
              "Name: Aprobado, Length: 690, dtype: object"
            ]
          },
          "metadata": {},
          "execution_count": 9
        }
      ]
    },
    {
      "cell_type": "code",
      "metadata": {
        "colab": {
          "base_uri": "https://localhost:8080/"
        },
        "id": "QMOJfRzrm8eF",
        "outputId": "940ce3e6-e469-456c-fb20-e6d3aa53cb0b"
      },
      "source": [
        "credit_drop.dtypes"
      ],
      "id": "QMOJfRzrm8eF",
      "execution_count": 10,
      "outputs": [
        {
          "output_type": "execute_result",
          "data": {
            "text/plain": [
              "Genero                     object\n",
              "Edad                      float64\n",
              "Deuda                     float64\n",
              "Casado                     object\n",
              "ClienteBanco               object\n",
              "NivelEstudios              object\n",
              "TiempoEmpleado            float64\n",
              "IncumplimientosPrevios     object\n",
              "Empleado                   object\n",
              "PuntajeCredito              int64\n",
              "LicenciaConduccion         object\n",
              "Ciudadania                 object\n",
              "Ingresos                    int64\n",
              "Aprobado                   object\n",
              "dtype: object"
            ]
          },
          "metadata": {},
          "execution_count": 10
        }
      ]
    },
    {
      "cell_type": "code",
      "metadata": {
        "id": "lTKs94tCtqCs"
      },
      "source": [
        "from sklearn.preprocessing import LabelEncoder\n",
        "LE = LabelEncoder()\n",
        "\n",
        "#convertimos valores no numericos en numericos \n",
        "for col in credit_drop:\n",
        "    if credit_drop[col].dtypes=='object':\n",
        "        credit_drop[col]=LE.fit_transform(credit_drop[col])"
      ],
      "id": "lTKs94tCtqCs",
      "execution_count": 11,
      "outputs": []
    },
    {
      "cell_type": "code",
      "metadata": {
        "id": "equipped-right"
      },
      "source": [
        "# from sklearn.preprocessing import LabelEncoder\n",
        "# LE = LabelEncoder()\n",
        "\n",
        "# #convertimos valores no numericos en numericos \n",
        "# for col in credit_drop:\n",
        "#     if credit_drop[col].dtypes=='object':\n",
        "#         #credit_drop[col]=LE.fit_transform(credit_drop[col])\n",
        "#         credit_drop[col]= credit_drop.apply(lambda i: LE.fit_transform(credit_drop[col].astype(str)), axis=0) #result_type='expand')"
      ],
      "id": "equipped-right",
      "execution_count": null,
      "outputs": []
    },
    {
      "cell_type": "code",
      "metadata": {
        "id": "hydraulic-truth",
        "colab": {
          "base_uri": "https://localhost:8080/",
          "height": 383
        },
        "outputId": "9f807b09-82e9-470a-b425-552be2429808"
      },
      "source": [
        "credit_drop.head(10)"
      ],
      "id": "hydraulic-truth",
      "execution_count": 12,
      "outputs": [
        {
          "output_type": "execute_result",
          "data": {
            "text/html": [
              "<div>\n",
              "<style scoped>\n",
              "    .dataframe tbody tr th:only-of-type {\n",
              "        vertical-align: middle;\n",
              "    }\n",
              "\n",
              "    .dataframe tbody tr th {\n",
              "        vertical-align: top;\n",
              "    }\n",
              "\n",
              "    .dataframe thead th {\n",
              "        text-align: right;\n",
              "    }\n",
              "</style>\n",
              "<table border=\"1\" class=\"dataframe\">\n",
              "  <thead>\n",
              "    <tr style=\"text-align: right;\">\n",
              "      <th></th>\n",
              "      <th>Genero</th>\n",
              "      <th>Edad</th>\n",
              "      <th>Deuda</th>\n",
              "      <th>Casado</th>\n",
              "      <th>ClienteBanco</th>\n",
              "      <th>NivelEstudios</th>\n",
              "      <th>TiempoEmpleado</th>\n",
              "      <th>IncumplimientosPrevios</th>\n",
              "      <th>Empleado</th>\n",
              "      <th>PuntajeCredito</th>\n",
              "      <th>LicenciaConduccion</th>\n",
              "      <th>Ciudadania</th>\n",
              "      <th>Ingresos</th>\n",
              "      <th>Aprobado</th>\n",
              "    </tr>\n",
              "  </thead>\n",
              "  <tbody>\n",
              "    <tr>\n",
              "      <th>0</th>\n",
              "      <td>1</td>\n",
              "      <td>30.83</td>\n",
              "      <td>0.000</td>\n",
              "      <td>1</td>\n",
              "      <td>0</td>\n",
              "      <td>12</td>\n",
              "      <td>1.250</td>\n",
              "      <td>1</td>\n",
              "      <td>1</td>\n",
              "      <td>1</td>\n",
              "      <td>0</td>\n",
              "      <td>0</td>\n",
              "      <td>0</td>\n",
              "      <td>0</td>\n",
              "    </tr>\n",
              "    <tr>\n",
              "      <th>1</th>\n",
              "      <td>0</td>\n",
              "      <td>58.67</td>\n",
              "      <td>4.460</td>\n",
              "      <td>1</td>\n",
              "      <td>0</td>\n",
              "      <td>10</td>\n",
              "      <td>3.040</td>\n",
              "      <td>1</td>\n",
              "      <td>1</td>\n",
              "      <td>6</td>\n",
              "      <td>0</td>\n",
              "      <td>0</td>\n",
              "      <td>560</td>\n",
              "      <td>0</td>\n",
              "    </tr>\n",
              "    <tr>\n",
              "      <th>2</th>\n",
              "      <td>0</td>\n",
              "      <td>24.50</td>\n",
              "      <td>0.500</td>\n",
              "      <td>1</td>\n",
              "      <td>0</td>\n",
              "      <td>10</td>\n",
              "      <td>1.500</td>\n",
              "      <td>1</td>\n",
              "      <td>0</td>\n",
              "      <td>0</td>\n",
              "      <td>0</td>\n",
              "      <td>0</td>\n",
              "      <td>824</td>\n",
              "      <td>0</td>\n",
              "    </tr>\n",
              "    <tr>\n",
              "      <th>3</th>\n",
              "      <td>1</td>\n",
              "      <td>27.83</td>\n",
              "      <td>1.540</td>\n",
              "      <td>1</td>\n",
              "      <td>0</td>\n",
              "      <td>12</td>\n",
              "      <td>3.750</td>\n",
              "      <td>1</td>\n",
              "      <td>1</td>\n",
              "      <td>5</td>\n",
              "      <td>1</td>\n",
              "      <td>0</td>\n",
              "      <td>3</td>\n",
              "      <td>0</td>\n",
              "    </tr>\n",
              "    <tr>\n",
              "      <th>4</th>\n",
              "      <td>1</td>\n",
              "      <td>20.17</td>\n",
              "      <td>5.625</td>\n",
              "      <td>1</td>\n",
              "      <td>0</td>\n",
              "      <td>12</td>\n",
              "      <td>1.710</td>\n",
              "      <td>1</td>\n",
              "      <td>0</td>\n",
              "      <td>0</td>\n",
              "      <td>0</td>\n",
              "      <td>2</td>\n",
              "      <td>0</td>\n",
              "      <td>0</td>\n",
              "    </tr>\n",
              "    <tr>\n",
              "      <th>5</th>\n",
              "      <td>1</td>\n",
              "      <td>32.08</td>\n",
              "      <td>4.000</td>\n",
              "      <td>1</td>\n",
              "      <td>0</td>\n",
              "      <td>9</td>\n",
              "      <td>2.500</td>\n",
              "      <td>1</td>\n",
              "      <td>0</td>\n",
              "      <td>0</td>\n",
              "      <td>1</td>\n",
              "      <td>0</td>\n",
              "      <td>0</td>\n",
              "      <td>0</td>\n",
              "    </tr>\n",
              "    <tr>\n",
              "      <th>6</th>\n",
              "      <td>1</td>\n",
              "      <td>33.17</td>\n",
              "      <td>1.040</td>\n",
              "      <td>1</td>\n",
              "      <td>0</td>\n",
              "      <td>11</td>\n",
              "      <td>6.500</td>\n",
              "      <td>1</td>\n",
              "      <td>0</td>\n",
              "      <td>0</td>\n",
              "      <td>1</td>\n",
              "      <td>0</td>\n",
              "      <td>31285</td>\n",
              "      <td>0</td>\n",
              "    </tr>\n",
              "    <tr>\n",
              "      <th>7</th>\n",
              "      <td>0</td>\n",
              "      <td>22.92</td>\n",
              "      <td>11.585</td>\n",
              "      <td>1</td>\n",
              "      <td>0</td>\n",
              "      <td>2</td>\n",
              "      <td>0.040</td>\n",
              "      <td>1</td>\n",
              "      <td>0</td>\n",
              "      <td>0</td>\n",
              "      <td>0</td>\n",
              "      <td>0</td>\n",
              "      <td>1349</td>\n",
              "      <td>0</td>\n",
              "    </tr>\n",
              "    <tr>\n",
              "      <th>8</th>\n",
              "      <td>1</td>\n",
              "      <td>54.42</td>\n",
              "      <td>0.500</td>\n",
              "      <td>2</td>\n",
              "      <td>2</td>\n",
              "      <td>8</td>\n",
              "      <td>3.960</td>\n",
              "      <td>1</td>\n",
              "      <td>0</td>\n",
              "      <td>0</td>\n",
              "      <td>0</td>\n",
              "      <td>0</td>\n",
              "      <td>314</td>\n",
              "      <td>0</td>\n",
              "    </tr>\n",
              "    <tr>\n",
              "      <th>9</th>\n",
              "      <td>1</td>\n",
              "      <td>42.50</td>\n",
              "      <td>4.915</td>\n",
              "      <td>2</td>\n",
              "      <td>2</td>\n",
              "      <td>12</td>\n",
              "      <td>3.165</td>\n",
              "      <td>1</td>\n",
              "      <td>0</td>\n",
              "      <td>0</td>\n",
              "      <td>1</td>\n",
              "      <td>0</td>\n",
              "      <td>1442</td>\n",
              "      <td>0</td>\n",
              "    </tr>\n",
              "  </tbody>\n",
              "</table>\n",
              "</div>"
            ],
            "text/plain": [
              "   Genero   Edad   Deuda  ...  Ciudadania  Ingresos  Aprobado\n",
              "0       1  30.83   0.000  ...           0         0         0\n",
              "1       0  58.67   4.460  ...           0       560         0\n",
              "2       0  24.50   0.500  ...           0       824         0\n",
              "3       1  27.83   1.540  ...           0         3         0\n",
              "4       1  20.17   5.625  ...           2         0         0\n",
              "5       1  32.08   4.000  ...           0         0         0\n",
              "6       1  33.17   1.040  ...           0     31285         0\n",
              "7       0  22.92  11.585  ...           0      1349         0\n",
              "8       1  54.42   0.500  ...           0       314         0\n",
              "9       1  42.50   4.915  ...           0      1442         0\n",
              "\n",
              "[10 rows x 14 columns]"
            ]
          },
          "metadata": {},
          "execution_count": 12
        }
      ]
    },
    {
      "cell_type": "code",
      "metadata": {
        "colab": {
          "base_uri": "https://localhost:8080/",
          "height": 320
        },
        "id": "R_HNri3XEtqD",
        "outputId": "f3c4341a-9fe3-487f-dc1a-a61a64d4b53a"
      },
      "source": [
        "credit_drop.describe()"
      ],
      "id": "R_HNri3XEtqD",
      "execution_count": 13,
      "outputs": [
        {
          "output_type": "execute_result",
          "data": {
            "text/html": [
              "<div>\n",
              "<style scoped>\n",
              "    .dataframe tbody tr th:only-of-type {\n",
              "        vertical-align: middle;\n",
              "    }\n",
              "\n",
              "    .dataframe tbody tr th {\n",
              "        vertical-align: top;\n",
              "    }\n",
              "\n",
              "    .dataframe thead th {\n",
              "        text-align: right;\n",
              "    }\n",
              "</style>\n",
              "<table border=\"1\" class=\"dataframe\">\n",
              "  <thead>\n",
              "    <tr style=\"text-align: right;\">\n",
              "      <th></th>\n",
              "      <th>Genero</th>\n",
              "      <th>Edad</th>\n",
              "      <th>Deuda</th>\n",
              "      <th>Casado</th>\n",
              "      <th>ClienteBanco</th>\n",
              "      <th>NivelEstudios</th>\n",
              "      <th>TiempoEmpleado</th>\n",
              "      <th>IncumplimientosPrevios</th>\n",
              "      <th>Empleado</th>\n",
              "      <th>PuntajeCredito</th>\n",
              "      <th>LicenciaConduccion</th>\n",
              "      <th>Ciudadania</th>\n",
              "      <th>Ingresos</th>\n",
              "      <th>Aprobado</th>\n",
              "    </tr>\n",
              "  </thead>\n",
              "  <tbody>\n",
              "    <tr>\n",
              "      <th>count</th>\n",
              "      <td>690.000000</td>\n",
              "      <td>690.000000</td>\n",
              "      <td>690.000000</td>\n",
              "      <td>690.000000</td>\n",
              "      <td>690.000000</td>\n",
              "      <td>690.000000</td>\n",
              "      <td>690.000000</td>\n",
              "      <td>690.000000</td>\n",
              "      <td>690.000000</td>\n",
              "      <td>690.00000</td>\n",
              "      <td>690.000000</td>\n",
              "      <td>690.000000</td>\n",
              "      <td>690.000000</td>\n",
              "      <td>690.000000</td>\n",
              "    </tr>\n",
              "    <tr>\n",
              "      <th>mean</th>\n",
              "      <td>0.713043</td>\n",
              "      <td>31.568171</td>\n",
              "      <td>4.758725</td>\n",
              "      <td>1.250725</td>\n",
              "      <td>0.501449</td>\n",
              "      <td>5.868116</td>\n",
              "      <td>2.223406</td>\n",
              "      <td>0.523188</td>\n",
              "      <td>0.427536</td>\n",
              "      <td>2.40000</td>\n",
              "      <td>0.457971</td>\n",
              "      <td>0.176812</td>\n",
              "      <td>1017.385507</td>\n",
              "      <td>0.555072</td>\n",
              "    </tr>\n",
              "    <tr>\n",
              "      <th>std</th>\n",
              "      <td>0.489635</td>\n",
              "      <td>11.853273</td>\n",
              "      <td>4.978163</td>\n",
              "      <td>0.459735</td>\n",
              "      <td>0.880772</td>\n",
              "      <td>4.353235</td>\n",
              "      <td>3.346513</td>\n",
              "      <td>0.499824</td>\n",
              "      <td>0.495080</td>\n",
              "      <td>4.86294</td>\n",
              "      <td>0.498592</td>\n",
              "      <td>0.557869</td>\n",
              "      <td>5210.102598</td>\n",
              "      <td>0.497318</td>\n",
              "    </tr>\n",
              "    <tr>\n",
              "      <th>min</th>\n",
              "      <td>0.000000</td>\n",
              "      <td>13.750000</td>\n",
              "      <td>0.000000</td>\n",
              "      <td>0.000000</td>\n",
              "      <td>0.000000</td>\n",
              "      <td>0.000000</td>\n",
              "      <td>0.000000</td>\n",
              "      <td>0.000000</td>\n",
              "      <td>0.000000</td>\n",
              "      <td>0.00000</td>\n",
              "      <td>0.000000</td>\n",
              "      <td>0.000000</td>\n",
              "      <td>0.000000</td>\n",
              "      <td>0.000000</td>\n",
              "    </tr>\n",
              "    <tr>\n",
              "      <th>25%</th>\n",
              "      <td>0.000000</td>\n",
              "      <td>22.670000</td>\n",
              "      <td>1.000000</td>\n",
              "      <td>1.000000</td>\n",
              "      <td>0.000000</td>\n",
              "      <td>1.000000</td>\n",
              "      <td>0.165000</td>\n",
              "      <td>0.000000</td>\n",
              "      <td>0.000000</td>\n",
              "      <td>0.00000</td>\n",
              "      <td>0.000000</td>\n",
              "      <td>0.000000</td>\n",
              "      <td>0.000000</td>\n",
              "      <td>0.000000</td>\n",
              "    </tr>\n",
              "    <tr>\n",
              "      <th>50%</th>\n",
              "      <td>1.000000</td>\n",
              "      <td>28.625000</td>\n",
              "      <td>2.750000</td>\n",
              "      <td>1.000000</td>\n",
              "      <td>0.000000</td>\n",
              "      <td>6.000000</td>\n",
              "      <td>1.000000</td>\n",
              "      <td>1.000000</td>\n",
              "      <td>0.000000</td>\n",
              "      <td>0.00000</td>\n",
              "      <td>0.000000</td>\n",
              "      <td>0.000000</td>\n",
              "      <td>5.000000</td>\n",
              "      <td>1.000000</td>\n",
              "    </tr>\n",
              "    <tr>\n",
              "      <th>75%</th>\n",
              "      <td>1.000000</td>\n",
              "      <td>37.707500</td>\n",
              "      <td>7.207500</td>\n",
              "      <td>1.000000</td>\n",
              "      <td>0.000000</td>\n",
              "      <td>10.000000</td>\n",
              "      <td>2.625000</td>\n",
              "      <td>1.000000</td>\n",
              "      <td>1.000000</td>\n",
              "      <td>3.00000</td>\n",
              "      <td>1.000000</td>\n",
              "      <td>0.000000</td>\n",
              "      <td>395.500000</td>\n",
              "      <td>1.000000</td>\n",
              "    </tr>\n",
              "    <tr>\n",
              "      <th>max</th>\n",
              "      <td>2.000000</td>\n",
              "      <td>80.250000</td>\n",
              "      <td>28.000000</td>\n",
              "      <td>3.000000</td>\n",
              "      <td>3.000000</td>\n",
              "      <td>14.000000</td>\n",
              "      <td>28.500000</td>\n",
              "      <td>1.000000</td>\n",
              "      <td>1.000000</td>\n",
              "      <td>67.00000</td>\n",
              "      <td>1.000000</td>\n",
              "      <td>2.000000</td>\n",
              "      <td>100000.000000</td>\n",
              "      <td>1.000000</td>\n",
              "    </tr>\n",
              "  </tbody>\n",
              "</table>\n",
              "</div>"
            ],
            "text/plain": [
              "           Genero        Edad  ...       Ingresos    Aprobado\n",
              "count  690.000000  690.000000  ...     690.000000  690.000000\n",
              "mean     0.713043   31.568171  ...    1017.385507    0.555072\n",
              "std      0.489635   11.853273  ...    5210.102598    0.497318\n",
              "min      0.000000   13.750000  ...       0.000000    0.000000\n",
              "25%      0.000000   22.670000  ...       0.000000    0.000000\n",
              "50%      1.000000   28.625000  ...       5.000000    1.000000\n",
              "75%      1.000000   37.707500  ...     395.500000    1.000000\n",
              "max      2.000000   80.250000  ...  100000.000000    1.000000\n",
              "\n",
              "[8 rows x 14 columns]"
            ]
          },
          "metadata": {},
          "execution_count": 13
        }
      ]
    },
    {
      "cell_type": "code",
      "metadata": {
        "id": "involved-listing",
        "colab": {
          "base_uri": "https://localhost:8080/"
        },
        "outputId": "e02f8666-9016-4e02-8ad3-20032d17f275"
      },
      "source": [
        "#veamos ahora los posibles valores de la columna Approved\n",
        "credit_drop[\"Aprobado\"].unique()"
      ],
      "id": "involved-listing",
      "execution_count": 14,
      "outputs": [
        {
          "output_type": "execute_result",
          "data": {
            "text/plain": [
              "array([0, 1])"
            ]
          },
          "metadata": {},
          "execution_count": 14
        }
      ]
    },
    {
      "cell_type": "code",
      "metadata": {
        "id": "prepared-marble"
      },
      "source": [
        "X =  credit_drop.iloc[:,credit_drop.columns != 'Aprobado'] # Elegimos la variable X del problema\n",
        "y =  credit_drop[\"Aprobado\"] #elegimos la variable y del problema"
      ],
      "id": "prepared-marble",
      "execution_count": 15,
      "outputs": []
    },
    {
      "cell_type": "code",
      "metadata": {
        "colab": {
          "base_uri": "https://localhost:8080/",
          "height": 444
        },
        "id": "A6WL0eCdcrYi",
        "outputId": "2db7148a-6b05-4124-9b23-b33a5d87d383"
      },
      "source": [
        "varibles = X\n",
        "varibles"
      ],
      "id": "A6WL0eCdcrYi",
      "execution_count": 16,
      "outputs": [
        {
          "output_type": "execute_result",
          "data": {
            "text/html": [
              "<div>\n",
              "<style scoped>\n",
              "    .dataframe tbody tr th:only-of-type {\n",
              "        vertical-align: middle;\n",
              "    }\n",
              "\n",
              "    .dataframe tbody tr th {\n",
              "        vertical-align: top;\n",
              "    }\n",
              "\n",
              "    .dataframe thead th {\n",
              "        text-align: right;\n",
              "    }\n",
              "</style>\n",
              "<table border=\"1\" class=\"dataframe\">\n",
              "  <thead>\n",
              "    <tr style=\"text-align: right;\">\n",
              "      <th></th>\n",
              "      <th>Genero</th>\n",
              "      <th>Edad</th>\n",
              "      <th>Deuda</th>\n",
              "      <th>Casado</th>\n",
              "      <th>ClienteBanco</th>\n",
              "      <th>NivelEstudios</th>\n",
              "      <th>TiempoEmpleado</th>\n",
              "      <th>IncumplimientosPrevios</th>\n",
              "      <th>Empleado</th>\n",
              "      <th>PuntajeCredito</th>\n",
              "      <th>LicenciaConduccion</th>\n",
              "      <th>Ciudadania</th>\n",
              "      <th>Ingresos</th>\n",
              "    </tr>\n",
              "  </thead>\n",
              "  <tbody>\n",
              "    <tr>\n",
              "      <th>0</th>\n",
              "      <td>1</td>\n",
              "      <td>30.83</td>\n",
              "      <td>0.000</td>\n",
              "      <td>1</td>\n",
              "      <td>0</td>\n",
              "      <td>12</td>\n",
              "      <td>1.25</td>\n",
              "      <td>1</td>\n",
              "      <td>1</td>\n",
              "      <td>1</td>\n",
              "      <td>0</td>\n",
              "      <td>0</td>\n",
              "      <td>0</td>\n",
              "    </tr>\n",
              "    <tr>\n",
              "      <th>1</th>\n",
              "      <td>0</td>\n",
              "      <td>58.67</td>\n",
              "      <td>4.460</td>\n",
              "      <td>1</td>\n",
              "      <td>0</td>\n",
              "      <td>10</td>\n",
              "      <td>3.04</td>\n",
              "      <td>1</td>\n",
              "      <td>1</td>\n",
              "      <td>6</td>\n",
              "      <td>0</td>\n",
              "      <td>0</td>\n",
              "      <td>560</td>\n",
              "    </tr>\n",
              "    <tr>\n",
              "      <th>2</th>\n",
              "      <td>0</td>\n",
              "      <td>24.50</td>\n",
              "      <td>0.500</td>\n",
              "      <td>1</td>\n",
              "      <td>0</td>\n",
              "      <td>10</td>\n",
              "      <td>1.50</td>\n",
              "      <td>1</td>\n",
              "      <td>0</td>\n",
              "      <td>0</td>\n",
              "      <td>0</td>\n",
              "      <td>0</td>\n",
              "      <td>824</td>\n",
              "    </tr>\n",
              "    <tr>\n",
              "      <th>3</th>\n",
              "      <td>1</td>\n",
              "      <td>27.83</td>\n",
              "      <td>1.540</td>\n",
              "      <td>1</td>\n",
              "      <td>0</td>\n",
              "      <td>12</td>\n",
              "      <td>3.75</td>\n",
              "      <td>1</td>\n",
              "      <td>1</td>\n",
              "      <td>5</td>\n",
              "      <td>1</td>\n",
              "      <td>0</td>\n",
              "      <td>3</td>\n",
              "    </tr>\n",
              "    <tr>\n",
              "      <th>4</th>\n",
              "      <td>1</td>\n",
              "      <td>20.17</td>\n",
              "      <td>5.625</td>\n",
              "      <td>1</td>\n",
              "      <td>0</td>\n",
              "      <td>12</td>\n",
              "      <td>1.71</td>\n",
              "      <td>1</td>\n",
              "      <td>0</td>\n",
              "      <td>0</td>\n",
              "      <td>0</td>\n",
              "      <td>2</td>\n",
              "      <td>0</td>\n",
              "    </tr>\n",
              "    <tr>\n",
              "      <th>...</th>\n",
              "      <td>...</td>\n",
              "      <td>...</td>\n",
              "      <td>...</td>\n",
              "      <td>...</td>\n",
              "      <td>...</td>\n",
              "      <td>...</td>\n",
              "      <td>...</td>\n",
              "      <td>...</td>\n",
              "      <td>...</td>\n",
              "      <td>...</td>\n",
              "      <td>...</td>\n",
              "      <td>...</td>\n",
              "      <td>...</td>\n",
              "    </tr>\n",
              "    <tr>\n",
              "      <th>685</th>\n",
              "      <td>1</td>\n",
              "      <td>21.08</td>\n",
              "      <td>10.085</td>\n",
              "      <td>2</td>\n",
              "      <td>2</td>\n",
              "      <td>4</td>\n",
              "      <td>1.25</td>\n",
              "      <td>0</td>\n",
              "      <td>0</td>\n",
              "      <td>0</td>\n",
              "      <td>0</td>\n",
              "      <td>0</td>\n",
              "      <td>0</td>\n",
              "    </tr>\n",
              "    <tr>\n",
              "      <th>686</th>\n",
              "      <td>0</td>\n",
              "      <td>22.67</td>\n",
              "      <td>0.750</td>\n",
              "      <td>1</td>\n",
              "      <td>0</td>\n",
              "      <td>1</td>\n",
              "      <td>2.00</td>\n",
              "      <td>0</td>\n",
              "      <td>1</td>\n",
              "      <td>2</td>\n",
              "      <td>1</td>\n",
              "      <td>0</td>\n",
              "      <td>394</td>\n",
              "    </tr>\n",
              "    <tr>\n",
              "      <th>687</th>\n",
              "      <td>0</td>\n",
              "      <td>25.25</td>\n",
              "      <td>13.500</td>\n",
              "      <td>2</td>\n",
              "      <td>2</td>\n",
              "      <td>5</td>\n",
              "      <td>2.00</td>\n",
              "      <td>0</td>\n",
              "      <td>1</td>\n",
              "      <td>1</td>\n",
              "      <td>1</td>\n",
              "      <td>0</td>\n",
              "      <td>1</td>\n",
              "    </tr>\n",
              "    <tr>\n",
              "      <th>688</th>\n",
              "      <td>1</td>\n",
              "      <td>17.92</td>\n",
              "      <td>0.205</td>\n",
              "      <td>1</td>\n",
              "      <td>0</td>\n",
              "      <td>0</td>\n",
              "      <td>0.04</td>\n",
              "      <td>0</td>\n",
              "      <td>0</td>\n",
              "      <td>0</td>\n",
              "      <td>0</td>\n",
              "      <td>0</td>\n",
              "      <td>750</td>\n",
              "    </tr>\n",
              "    <tr>\n",
              "      <th>689</th>\n",
              "      <td>1</td>\n",
              "      <td>35.00</td>\n",
              "      <td>3.375</td>\n",
              "      <td>1</td>\n",
              "      <td>0</td>\n",
              "      <td>1</td>\n",
              "      <td>8.29</td>\n",
              "      <td>0</td>\n",
              "      <td>0</td>\n",
              "      <td>0</td>\n",
              "      <td>1</td>\n",
              "      <td>0</td>\n",
              "      <td>0</td>\n",
              "    </tr>\n",
              "  </tbody>\n",
              "</table>\n",
              "<p>690 rows × 13 columns</p>\n",
              "</div>"
            ],
            "text/plain": [
              "     Genero   Edad   Deuda  ...  LicenciaConduccion  Ciudadania  Ingresos\n",
              "0         1  30.83   0.000  ...                   0           0         0\n",
              "1         0  58.67   4.460  ...                   0           0       560\n",
              "2         0  24.50   0.500  ...                   0           0       824\n",
              "3         1  27.83   1.540  ...                   1           0         3\n",
              "4         1  20.17   5.625  ...                   0           2         0\n",
              "..      ...    ...     ...  ...                 ...         ...       ...\n",
              "685       1  21.08  10.085  ...                   0           0         0\n",
              "686       0  22.67   0.750  ...                   1           0       394\n",
              "687       0  25.25  13.500  ...                   1           0         1\n",
              "688       1  17.92   0.205  ...                   0           0       750\n",
              "689       1  35.00   3.375  ...                   1           0         0\n",
              "\n",
              "[690 rows x 13 columns]"
            ]
          },
          "metadata": {},
          "execution_count": 16
        }
      ]
    },
    {
      "cell_type": "code",
      "metadata": {
        "id": "tnIhcqfpGcJQ"
      },
      "source": [
        "#Separación de los datos de entrenamiento y prueba: X, y\n",
        "from sklearn.model_selection import train_test_split\n",
        "\n",
        "x_train, x_test, y_train, y_test = train_test_split(X,y,test_size=0.25,random_state=42)"
      ],
      "id": "tnIhcqfpGcJQ",
      "execution_count": 17,
      "outputs": []
    },
    {
      "cell_type": "code",
      "metadata": {
        "id": "PxCfSGF6GpPw"
      },
      "source": [
        "#Normalizar los datos con StandardScaler\n",
        "from sklearn.preprocessing import StandardScaler\n",
        "\n",
        "\n",
        "scaler = StandardScaler().fit(x_train) # esta linea extrae la media y la desviacion estandar de las columnas de x_train\n",
        "x_train = scaler.transform(x_train)    # esta linea resta la media y divide por la desviacion estandar cada columna\n",
        "\n",
        "x_test = scaler.transform(x_test)"
      ],
      "id": "PxCfSGF6GpPw",
      "execution_count": 18,
      "outputs": []
    },
    {
      "cell_type": "code",
      "metadata": {
        "colab": {
          "base_uri": "https://localhost:8080/"
        },
        "id": "TofdfiNmHWak",
        "outputId": "893cf5d3-120b-4047-d1be-05976d9be90e"
      },
      "source": [
        "#Entrenando un algoritmo de Arboles aleatorios (RandomForest)\n",
        "from sklearn.ensemble import RandomForestClassifier\n",
        "\n",
        "clf = RandomForestClassifier(n_estimators=700)\n",
        "\n",
        "clf.fit(x_train,y_train) # entrenamiento\n",
        "\n",
        "y_pred=clf.predict(x_test) # prediccion\n",
        "\n",
        "y_pred"
      ],
      "id": "TofdfiNmHWak",
      "execution_count": 19,
      "outputs": [
        {
          "output_type": "execute_result",
          "data": {
            "text/plain": [
              "array([1, 0, 1, 1, 1, 1, 1, 1, 1, 1, 1, 0, 1, 0, 1, 0, 1, 1, 1, 1, 1, 1,\n",
              "       1, 0, 1, 1, 0, 1, 1, 1, 0, 0, 0, 0, 0, 0, 0, 0, 0, 0, 0, 0, 1, 0,\n",
              "       1, 0, 1, 1, 1, 1, 1, 1, 1, 1, 0, 1, 0, 1, 0, 1, 0, 0, 0, 1, 1, 0,\n",
              "       0, 1, 0, 1, 1, 0, 1, 1, 1, 1, 1, 1, 0, 1, 0, 0, 1, 1, 0, 1, 0, 0,\n",
              "       0, 0, 0, 0, 0, 0, 1, 1, 0, 1, 1, 1, 1, 1, 0, 1, 0, 0, 1, 0, 1, 0,\n",
              "       1, 0, 0, 1, 0, 1, 0, 0, 1, 0, 1, 1, 0, 1, 1, 1, 1, 1, 0, 0, 0, 1,\n",
              "       0, 1, 0, 0, 0, 0, 1, 0, 1, 1, 0, 0, 1, 1, 1, 1, 0, 1, 1, 1, 1, 0,\n",
              "       1, 0, 0, 0, 1, 1, 0, 1, 1, 1, 1, 1, 1, 0, 1, 1, 1, 1, 0])"
            ]
          },
          "metadata": {},
          "execution_count": 19
        }
      ]
    },
    {
      "cell_type": "code",
      "metadata": {
        "colab": {
          "base_uri": "https://localhost:8080/"
        },
        "id": "MehURHTGQu_l",
        "outputId": "96436554-de66-4083-b0c9-8a2f826f1117"
      },
      "source": [
        "y_test.values.reshape(1,-1)"
      ],
      "id": "MehURHTGQu_l",
      "execution_count": 20,
      "outputs": [
        {
          "output_type": "execute_result",
          "data": {
            "text/plain": [
              "array([[1, 0, 1, 1, 0, 0, 1, 0, 1, 1, 1, 0, 0, 1, 1, 0, 1, 1, 1, 1, 1, 1,\n",
              "        1, 0, 1, 1, 0, 0, 1, 1, 0, 0, 0, 1, 0, 0, 0, 1, 0, 0, 0, 1, 1, 0,\n",
              "        1, 0, 1, 1, 1, 1, 1, 1, 1, 0, 0, 1, 0, 1, 0, 1, 0, 0, 0, 1, 0, 0,\n",
              "        0, 0, 0, 1, 0, 0, 1, 1, 1, 1, 0, 0, 0, 1, 0, 0, 1, 1, 0, 1, 0, 0,\n",
              "        0, 0, 0, 0, 0, 1, 1, 0, 0, 1, 1, 1, 1, 0, 0, 1, 0, 1, 0, 0, 1, 0,\n",
              "        1, 0, 0, 1, 0, 1, 0, 0, 1, 0, 1, 1, 0, 1, 1, 1, 1, 1, 0, 0, 1, 1,\n",
              "        0, 1, 0, 0, 0, 0, 1, 1, 1, 0, 0, 0, 1, 1, 1, 1, 0, 1, 1, 1, 1, 0,\n",
              "        1, 0, 0, 0, 1, 1, 0, 1, 1, 1, 1, 1, 1, 0, 1, 0, 1, 1, 0]])"
            ]
          },
          "metadata": {},
          "execution_count": 20
        }
      ]
    },
    {
      "cell_type": "code",
      "metadata": {
        "colab": {
          "base_uri": "https://localhost:8080/"
        },
        "id": "bvAiG2FQQx_2",
        "outputId": "f2283976-4fa3-4acc-e014-ce47a2d57075"
      },
      "source": [
        "#Evaluando el algoritmo con accuracy_score\n",
        "from sklearn.metrics import accuracy_score, confusion_matrix\n",
        "\n",
        "accuracy_score(y_test, y_pred) #comparamos y_test y y_pred"
      ],
      "id": "bvAiG2FQQx_2",
      "execution_count": 21,
      "outputs": [
        {
          "output_type": "execute_result",
          "data": {
            "text/plain": [
              "0.861271676300578"
            ]
          },
          "metadata": {},
          "execution_count": 21
        }
      ]
    },
    {
      "cell_type": "code",
      "metadata": {
        "colab": {
          "base_uri": "https://localhost:8080/"
        },
        "id": "Ie6sPc55RZTh",
        "outputId": "ceb2c725-6c3d-4f3a-d4fa-e83b6516fef9"
      },
      "source": [
        "#Evaluando el algoritmo con confusion_matrix\n",
        "confusion_matrix(y_test, y_pred)"
      ],
      "id": "Ie6sPc55RZTh",
      "execution_count": 22,
      "outputs": [
        {
          "output_type": "execute_result",
          "data": {
            "text/plain": [
              "array([[66, 16],\n",
              "       [ 8, 83]])"
            ]
          },
          "metadata": {},
          "execution_count": 22
        }
      ]
    },
    {
      "cell_type": "code",
      "metadata": {
        "colab": {
          "base_uri": "https://localhost:8080/",
          "height": 1000
        },
        "id": "U7iDCC4zcUp0",
        "outputId": "3a96129e-e295-4649-976c-0a5051f79dd1"
      },
      "source": [
        "import matplotlib.pyplot as plt\n",
        "import seaborn as sns\n",
        "sns.set_style('darkgrid')\n",
        "\n",
        "edad =credit_drop['Edad'].values\n",
        "plt.hist(edad)\n",
        "plt.title(\"Edad\")\n",
        "plt.show()\n",
        "\n",
        "deuda =credit_drop['Deuda'].values\n",
        "plt.title(\"Deuda\")\n",
        "plt.hist(deuda)\n",
        "plt.show()\n",
        "\n",
        "tiempo_empleado =credit_drop['TiempoEmpleado'].values\n",
        "plt.hist(tiempo_empleado)\n",
        "plt.title(\"TiempoEmpleado\")\n",
        "plt.show()\n",
        "\n",
        "revenues =credit_drop['Ingresos'].values\n",
        "plt.hist(revenues)\n",
        "plt.title(\"Ingresos\")\n",
        "plt.show()"
      ],
      "id": "U7iDCC4zcUp0",
      "execution_count": 23,
      "outputs": [
        {
          "output_type": "display_data",
          "data": {
            "image/png": "[encoded data removed]",
            "text/plain": [
              "<Figure size 432x288 with 1 Axes>"
            ]
          },
          "metadata": {}
        },
        {
          "output_type": "display_data",
          "data": {
            "image/png": "[encoded data removed]",
            "text/plain": [
              "<Figure size 432x288 with 1 Axes>"
            ]
          },
          "metadata": {}
        },
        {
          "output_type": "display_data",
          "data": {
            "image/png": "[encoded data removed]",
            "text/plain": [
              "<Figure size 432x288 with 1 Axes>"
            ]
          },
          "metadata": {}
        },
        {
          "output_type": "display_data",
          "data": {
            "image/png": "[encoded data removed]",
            "text/plain": [
              "<Figure size 432x288 with 1 Axes>"
            ]
          },
          "metadata": {}
        }
      ]
    },
    {
      "cell_type": "markdown",
      "metadata": {
        "id": "ubItro34rK5a"
      },
      "source": [
        "###Nuevo Modelo"
      ],
      "id": "ubItro34rK5a"
    },
    {
      "cell_type": "code",
      "metadata": {
        "colab": {
          "base_uri": "https://localhost:8080/"
        },
        "id": "QcW01XAcS1dZ",
        "outputId": "6c3ecc10-c3c8-4e36-e66d-0bb57a16770f"
      },
      "source": [
        "#evaluemos la importancia de cada atributo\n",
        "importancias = clf.feature_importances_ #se calcula la importancia de cada atributo\n",
        "\n",
        "atributos = X.columns  # Extraemos los nombres de las columnas\n",
        "\n",
        "for i in range(len(atributos)):\n",
        "  print(\"importancia de %s = %f\"%(atributos[i],importancias[i]))"
      ],
      "id": "QcW01XAcS1dZ",
      "execution_count": 29,
      "outputs": [
        {
          "output_type": "stream",
          "name": "stdout",
          "text": [
            "importancia de Genero = 0.016248\n",
            "importancia de Edad = 0.087823\n",
            "importancia de Deuda = 0.092878\n",
            "importancia de Casado = 0.016236\n",
            "importancia de ClienteBanco = 0.015809\n",
            "importancia de NivelEstudios = 0.066469\n",
            "importancia de TiempoEmpleado = 0.113756\n",
            "importancia de IncumplimientosPrevios = 0.309504\n",
            "importancia de Empleado = 0.053541\n",
            "importancia de PuntajeCredito = 0.101719\n",
            "importancia de LicenciaConduccion = 0.014962\n",
            "importancia de Ciudadania = 0.010720\n",
            "importancia de Ingresos = 0.100335\n"
          ]
        }
      ]
    },
    {
      "cell_type": "code",
      "metadata": {
        "colab": {
          "base_uri": "https://localhost:8080/"
        },
        "id": "qNuNvWKGW_ck",
        "outputId": "a6a2db38-dd19-4708-cc8b-0eedf42c7e26"
      },
      "source": [
        "atributos"
      ],
      "id": "qNuNvWKGW_ck",
      "execution_count": 32,
      "outputs": [
        {
          "output_type": "execute_result",
          "data": {
            "text/plain": [
              "Index(['Genero', 'Edad', 'Deuda', 'Casado', 'ClienteBanco', 'NivelEstudios',\n",
              "       'TiempoEmpleado', 'IncumplimientosPrevios', 'Empleado',\n",
              "       'PuntajeCredito', 'LicenciaConduccion', 'Ciudadania', 'Ingresos'],\n",
              "      dtype='object')"
            ]
          },
          "metadata": {},
          "execution_count": 32
        }
      ]
    },
    {
      "cell_type": "code",
      "metadata": {
        "colab": {
          "base_uri": "https://localhost:8080/"
        },
        "id": "ysZOv66nXFzh",
        "outputId": "bca1da50-f1e1-4636-eb7a-920d9a3d6ee4"
      },
      "source": [
        "#ordenamos los indices para obtener importancias de menor a mayor\n",
        "indices = np.argsort(importancias)  \n",
        "print(indices)"
      ],
      "id": "ysZOv66nXFzh",
      "execution_count": 33,
      "outputs": [
        {
          "output_type": "stream",
          "name": "stdout",
          "text": [
            "[11 10  4  3  0  8  5  1  2 12  9  6  7]\n"
          ]
        }
      ]
    },
    {
      "cell_type": "code",
      "metadata": {
        "colab": {
          "base_uri": "https://localhost:8080/",
          "height": 638
        },
        "id": "wlfsHfZvXKfq",
        "outputId": "b3cab9de-291a-4537-83d8-4613ab71ee08"
      },
      "source": [
        "#Gráfico de la importancia de variables\n",
        "plt.figure(figsize=(12,10))\n",
        "plt.title('Importancia de atributos')\n",
        "plt.barh(range(len(indices)), importancias[indices], color='b', align='center')\n",
        "plt.yticks(range(len(indices)), [atributos[i] for i in indices])\n",
        "plt.xlabel('Importancia relativa')\n",
        "plt.show()\n",
        "plt.figure(figsize=(700,100))\n",
        "plt.savefig('atributos.jpg');"
      ],
      "id": "wlfsHfZvXKfq",
      "execution_count": 35,
      "outputs": [
        {
          "output_type": "display_data",
          "data": {
            "image/png": "[encoded data removed]",
            "text/plain": [
              "<Figure size 864x720 with 1 Axes>"
            ]
          },
          "metadata": {}
        },
        {
          "output_type": "display_data",
          "data": {
            "text/plain": [
              "<Figure size 50400x7200 with 0 Axes>"
            ]
          },
          "metadata": {}
        }
      ]
    },
    {
      "cell_type": "code",
      "metadata": {
        "id": "oXZRBByQrF4Z",
        "colab": {
          "base_uri": "https://localhost:8080/",
          "height": 424
        },
        "outputId": "b75f43e9-5062-4784-8da6-933c0eb30f55"
      },
      "source": [
        "#Selección de las 6 variables más importantes para el modelo de RandomForestClassifier\n",
        "feature_df = credit_drop[['IncumplimientosPrevios', 'TiempoEmpleado', 'PuntajeCredito', 'Ingresos', 'Deuda', 'Edad' ]]\n",
        "feature_df"
      ],
      "id": "oXZRBByQrF4Z",
      "execution_count": 41,
      "outputs": [
        {
          "output_type": "execute_result",
          "data": {
            "text/html": [
              "<div>\n",
              "<style scoped>\n",
              "    .dataframe tbody tr th:only-of-type {\n",
              "        vertical-align: middle;\n",
              "    }\n",
              "\n",
              "    .dataframe tbody tr th {\n",
              "        vertical-align: top;\n",
              "    }\n",
              "\n",
              "    .dataframe thead th {\n",
              "        text-align: right;\n",
              "    }\n",
              "</style>\n",
              "<table border=\"1\" class=\"dataframe\">\n",
              "  <thead>\n",
              "    <tr style=\"text-align: right;\">\n",
              "      <th></th>\n",
              "      <th>IncumplimientosPrevios</th>\n",
              "      <th>TiempoEmpleado</th>\n",
              "      <th>PuntajeCredito</th>\n",
              "      <th>Ingresos</th>\n",
              "      <th>Deuda</th>\n",
              "      <th>Edad</th>\n",
              "    </tr>\n",
              "  </thead>\n",
              "  <tbody>\n",
              "    <tr>\n",
              "      <th>0</th>\n",
              "      <td>1</td>\n",
              "      <td>1.25</td>\n",
              "      <td>1</td>\n",
              "      <td>0</td>\n",
              "      <td>0.000</td>\n",
              "      <td>30.83</td>\n",
              "    </tr>\n",
              "    <tr>\n",
              "      <th>1</th>\n",
              "      <td>1</td>\n",
              "      <td>3.04</td>\n",
              "      <td>6</td>\n",
              "      <td>560</td>\n",
              "      <td>4.460</td>\n",
              "      <td>58.67</td>\n",
              "    </tr>\n",
              "    <tr>\n",
              "      <th>2</th>\n",
              "      <td>1</td>\n",
              "      <td>1.50</td>\n",
              "      <td>0</td>\n",
              "      <td>824</td>\n",
              "      <td>0.500</td>\n",
              "      <td>24.50</td>\n",
              "    </tr>\n",
              "    <tr>\n",
              "      <th>3</th>\n",
              "      <td>1</td>\n",
              "      <td>3.75</td>\n",
              "      <td>5</td>\n",
              "      <td>3</td>\n",
              "      <td>1.540</td>\n",
              "      <td>27.83</td>\n",
              "    </tr>\n",
              "    <tr>\n",
              "      <th>4</th>\n",
              "      <td>1</td>\n",
              "      <td>1.71</td>\n",
              "      <td>0</td>\n",
              "      <td>0</td>\n",
              "      <td>5.625</td>\n",
              "      <td>20.17</td>\n",
              "    </tr>\n",
              "    <tr>\n",
              "      <th>...</th>\n",
              "      <td>...</td>\n",
              "      <td>...</td>\n",
              "      <td>...</td>\n",
              "      <td>...</td>\n",
              "      <td>...</td>\n",
              "      <td>...</td>\n",
              "    </tr>\n",
              "    <tr>\n",
              "      <th>685</th>\n",
              "      <td>0</td>\n",
              "      <td>1.25</td>\n",
              "      <td>0</td>\n",
              "      <td>0</td>\n",
              "      <td>10.085</td>\n",
              "      <td>21.08</td>\n",
              "    </tr>\n",
              "    <tr>\n",
              "      <th>686</th>\n",
              "      <td>0</td>\n",
              "      <td>2.00</td>\n",
              "      <td>2</td>\n",
              "      <td>394</td>\n",
              "      <td>0.750</td>\n",
              "      <td>22.67</td>\n",
              "    </tr>\n",
              "    <tr>\n",
              "      <th>687</th>\n",
              "      <td>0</td>\n",
              "      <td>2.00</td>\n",
              "      <td>1</td>\n",
              "      <td>1</td>\n",
              "      <td>13.500</td>\n",
              "      <td>25.25</td>\n",
              "    </tr>\n",
              "    <tr>\n",
              "      <th>688</th>\n",
              "      <td>0</td>\n",
              "      <td>0.04</td>\n",
              "      <td>0</td>\n",
              "      <td>750</td>\n",
              "      <td>0.205</td>\n",
              "      <td>17.92</td>\n",
              "    </tr>\n",
              "    <tr>\n",
              "      <th>689</th>\n",
              "      <td>0</td>\n",
              "      <td>8.29</td>\n",
              "      <td>0</td>\n",
              "      <td>0</td>\n",
              "      <td>3.375</td>\n",
              "      <td>35.00</td>\n",
              "    </tr>\n",
              "  </tbody>\n",
              "</table>\n",
              "<p>690 rows × 6 columns</p>\n",
              "</div>"
            ],
            "text/plain": [
              "     IncumplimientosPrevios  TiempoEmpleado  ...   Deuda   Edad\n",
              "0                         1            1.25  ...   0.000  30.83\n",
              "1                         1            3.04  ...   4.460  58.67\n",
              "2                         1            1.50  ...   0.500  24.50\n",
              "3                         1            3.75  ...   1.540  27.83\n",
              "4                         1            1.71  ...   5.625  20.17\n",
              "..                      ...             ...  ...     ...    ...\n",
              "685                       0            1.25  ...  10.085  21.08\n",
              "686                       0            2.00  ...   0.750  22.67\n",
              "687                       0            2.00  ...  13.500  25.25\n",
              "688                       0            0.04  ...   0.205  17.92\n",
              "689                       0            8.29  ...   3.375  35.00\n",
              "\n",
              "[690 rows x 6 columns]"
            ]
          },
          "metadata": {},
          "execution_count": 41
        }
      ]
    },
    {
      "cell_type": "code",
      "metadata": {
        "id": "N2JCSoEoryL5"
      },
      "source": [
        "X_new = feature_df.values\n",
        "y_new  =  credit_drop[\"Aprobado\"]"
      ],
      "id": "N2JCSoEoryL5",
      "execution_count": 43,
      "outputs": []
    },
    {
      "cell_type": "code",
      "metadata": {
        "colab": {
          "base_uri": "https://localhost:8080/"
        },
        "id": "QNecHWnyYRiM",
        "outputId": "59742a45-9bc6-4548-96c0-c6be431bde21"
      },
      "source": [
        "X_new"
      ],
      "id": "QNecHWnyYRiM",
      "execution_count": 44,
      "outputs": [
        {
          "output_type": "execute_result",
          "data": {
            "text/plain": [
              "array([[1.000e+00, 1.250e+00, 1.000e+00, 0.000e+00, 0.000e+00, 3.083e+01],\n",
              "       [1.000e+00, 3.040e+00, 6.000e+00, 5.600e+02, 4.460e+00, 5.867e+01],\n",
              "       [1.000e+00, 1.500e+00, 0.000e+00, 8.240e+02, 5.000e-01, 2.450e+01],\n",
              "       ...,\n",
              "       [0.000e+00, 2.000e+00, 1.000e+00, 1.000e+00, 1.350e+01, 2.525e+01],\n",
              "       [0.000e+00, 4.000e-02, 0.000e+00, 7.500e+02, 2.050e-01, 1.792e+01],\n",
              "       [0.000e+00, 8.290e+00, 0.000e+00, 0.000e+00, 3.375e+00, 3.500e+01]])"
            ]
          },
          "metadata": {},
          "execution_count": 44
        }
      ]
    },
    {
      "cell_type": "code",
      "metadata": {
        "colab": {
          "base_uri": "https://localhost:8080/"
        },
        "id": "eWhMSzcDYWgx",
        "outputId": "83e79cf2-fbb7-41f8-a39b-28f17f141ede"
      },
      "source": [
        "y_new"
      ],
      "id": "eWhMSzcDYWgx",
      "execution_count": 45,
      "outputs": [
        {
          "output_type": "execute_result",
          "data": {
            "text/plain": [
              "0      0\n",
              "1      0\n",
              "2      0\n",
              "3      0\n",
              "4      0\n",
              "      ..\n",
              "685    1\n",
              "686    1\n",
              "687    1\n",
              "688    1\n",
              "689    1\n",
              "Name: Aprobado, Length: 690, dtype: int64"
            ]
          },
          "metadata": {},
          "execution_count": 45
        }
      ]
    },
    {
      "cell_type": "code",
      "metadata": {
        "id": "Dx9Rwb3xsLWu"
      },
      "source": [
        "x_train, x_test, y_train, y_test = train_test_split(X_new,y_new,test_size=0.25,random_state=42)"
      ],
      "id": "Dx9Rwb3xsLWu",
      "execution_count": 46,
      "outputs": []
    },
    {
      "cell_type": "code",
      "metadata": {
        "id": "vt-QyLqBscul"
      },
      "source": [
        "#Normalizar los datos con StandardScaler\n",
        "from sklearn.preprocessing import StandardScaler\n",
        "\n",
        "\n",
        "scaler = StandardScaler().fit(x_train) # esta linea extrae la media y la desviacion estandar de las columnas de x_train\n",
        "x_train = scaler.transform(x_train)    # esta linea resta la media y divide por la desviacion estandar cada columna\n",
        "\n",
        "x_test = scaler.transform(x_test)"
      ],
      "id": "vt-QyLqBscul",
      "execution_count": 47,
      "outputs": []
    },
    {
      "cell_type": "code",
      "metadata": {
        "colab": {
          "base_uri": "https://localhost:8080/"
        },
        "id": "jF6FowQgsotT",
        "outputId": "1a04ba62-15fb-49a9-8209-69d06871af5e"
      },
      "source": [
        "#Entrenando un algoritmo de Arboles aleatorios (RandomForest)\n",
        "from sklearn.ensemble import RandomForestClassifier\n",
        "\n",
        "clf = RandomForestClassifier(n_estimators=700)\n",
        "\n",
        "clf.fit(x_train,y_train) # entrenamiento\n",
        "\n",
        "y_pred=clf.predict(x_test) # prediccion\n",
        "\n",
        "y_pred"
      ],
      "id": "jF6FowQgsotT",
      "execution_count": 48,
      "outputs": [
        {
          "output_type": "execute_result",
          "data": {
            "text/plain": [
              "array([1, 0, 1, 1, 1, 0, 1, 1, 1, 1, 1, 0, 1, 0, 1, 0, 1, 1, 1, 1, 1, 1,\n",
              "       1, 1, 1, 1, 0, 1, 1, 1, 0, 0, 0, 0, 0, 0, 0, 1, 0, 0, 0, 0, 1, 0,\n",
              "       1, 0, 1, 1, 0, 1, 1, 0, 1, 1, 0, 1, 0, 1, 0, 1, 0, 0, 0, 1, 1, 0,\n",
              "       0, 0, 0, 1, 1, 0, 1, 1, 1, 1, 1, 1, 0, 1, 0, 0, 1, 1, 0, 1, 0, 0,\n",
              "       0, 0, 0, 0, 0, 0, 0, 0, 0, 1, 1, 1, 1, 1, 0, 1, 0, 0, 1, 0, 1, 0,\n",
              "       1, 0, 0, 0, 0, 1, 0, 0, 1, 0, 1, 1, 0, 1, 1, 1, 1, 1, 0, 0, 1, 1,\n",
              "       0, 1, 0, 0, 0, 0, 1, 0, 1, 1, 0, 0, 1, 1, 1, 1, 0, 1, 1, 1, 1, 0,\n",
              "       1, 0, 0, 0, 1, 1, 0, 1, 1, 1, 1, 1, 1, 0, 1, 0, 1, 1, 0])"
            ]
          },
          "metadata": {},
          "execution_count": 48
        }
      ]
    },
    {
      "cell_type": "code",
      "metadata": {
        "colab": {
          "base_uri": "https://localhost:8080/"
        },
        "id": "V7JQuz5Fss9R",
        "outputId": "fdabda4f-2df3-44ed-8f27-816800337b93"
      },
      "source": [
        "y_test.values.reshape(1,-1)"
      ],
      "id": "V7JQuz5Fss9R",
      "execution_count": 49,
      "outputs": [
        {
          "output_type": "execute_result",
          "data": {
            "text/plain": [
              "array([[1, 0, 1, 1, 0, 0, 1, 0, 1, 1, 1, 0, 0, 1, 1, 0, 1, 1, 1, 1, 1, 1,\n",
              "        1, 0, 1, 1, 0, 0, 1, 1, 0, 0, 0, 1, 0, 0, 0, 1, 0, 0, 0, 1, 1, 0,\n",
              "        1, 0, 1, 1, 1, 1, 1, 1, 1, 0, 0, 1, 0, 1, 0, 1, 0, 0, 0, 1, 0, 0,\n",
              "        0, 0, 0, 1, 0, 0, 1, 1, 1, 1, 0, 0, 0, 1, 0, 0, 1, 1, 0, 1, 0, 0,\n",
              "        0, 0, 0, 0, 0, 1, 1, 0, 0, 1, 1, 1, 1, 0, 0, 1, 0, 1, 0, 0, 1, 0,\n",
              "        1, 0, 0, 1, 0, 1, 0, 0, 1, 0, 1, 1, 0, 1, 1, 1, 1, 1, 0, 0, 1, 1,\n",
              "        0, 1, 0, 0, 0, 0, 1, 1, 1, 0, 0, 0, 1, 1, 1, 1, 0, 1, 1, 1, 1, 0,\n",
              "        1, 0, 0, 0, 1, 1, 0, 1, 1, 1, 1, 1, 1, 0, 1, 0, 1, 1, 0]])"
            ]
          },
          "metadata": {},
          "execution_count": 49
        }
      ]
    },
    {
      "cell_type": "code",
      "metadata": {
        "colab": {
          "base_uri": "https://localhost:8080/"
        },
        "id": "xOVV0VgHsuLH",
        "outputId": "85bea273-7201-4bdb-dab0-f53978f5df9f"
      },
      "source": [
        "#Evaluando el algoritmo con accuracy_score\n",
        "from sklearn.metrics import accuracy_score, confusion_matrix\n",
        "\n",
        "accuracy_score(y_test, y_pred) #comparamos y_test y y_pred"
      ],
      "id": "xOVV0VgHsuLH",
      "execution_count": 50,
      "outputs": [
        {
          "output_type": "execute_result",
          "data": {
            "text/plain": [
              "0.8670520231213873"
            ]
          },
          "metadata": {},
          "execution_count": 50
        }
      ]
    },
    {
      "cell_type": "code",
      "metadata": {
        "colab": {
          "base_uri": "https://localhost:8080/"
        },
        "id": "LpSHfyrYsyhS",
        "outputId": "d6689da1-ddd4-4039-8f60-1b65c6ed11e3"
      },
      "source": [
        "#Evaluando el algoritmo con confusion_matrix\n",
        "confusion_matrix(y_test, y_pred)"
      ],
      "id": "LpSHfyrYsyhS",
      "execution_count": 51,
      "outputs": [
        {
          "output_type": "execute_result",
          "data": {
            "text/plain": [
              "array([[69, 13],\n",
              "       [10, 81]])"
            ]
          },
          "metadata": {},
          "execution_count": 51
        }
      ]
    },
    {
      "cell_type": "code",
      "metadata": {
        "id": "GKXjChEwak9L"
      },
      "source": [
        "import joblib #para guardar el modelo\n",
        "\n",
        "# salvar el modelo\n",
        "joblib.dump(clf, 'modelo_arbol.joblib')\n",
        "\n",
        "# cargar el modelo\n",
        "modelo_cargado = joblib.load('modelo_arbol.joblib')"
      ],
      "id": "GKXjChEwak9L",
      "execution_count": 52,
      "outputs": []
    },
    {
      "cell_type": "code",
      "metadata": {
        "colab": {
          "base_uri": "https://localhost:8080/"
        },
        "id": "qiAs1XaMas_F",
        "outputId": "481a4f3e-d801-4b2f-86ab-ed5bb9331ad7"
      },
      "source": [
        "y_pred = modelo_cargado.predict(x_test)\n",
        "print(y_pred[:5])"
      ],
      "id": "qiAs1XaMas_F",
      "execution_count": 53,
      "outputs": [
        {
          "output_type": "stream",
          "name": "stdout",
          "text": [
            "[1 0 1 1 1]\n"
          ]
        }
      ]
    },
    {
      "cell_type": "markdown",
      "metadata": {
        "id": "double-activity"
      },
      "source": [
        "### Tarea de Proyecto Productivo\n",
        "Tomar el modelo del punto 6 del ejercicio anterior y montarlo en una aplicacion web en Heroku.\n",
        "Para eso deben basarse en las clases 10 y 11 de proyecto productivo.\n",
        "Este proyecto se entrega compartiendo el enlace de la aplicacion en Heroku y la carpeta con el codigo."
      ],
      "id": "double-activity"
    },
    {
      "cell_type": "code",
      "metadata": {
        "id": "8qXVuK9PtVVt"
      },
      "source": [
        ""
      ],
      "id": "8qXVuK9PtVVt",
      "execution_count": null,
      "outputs": []
    }
  ]
}